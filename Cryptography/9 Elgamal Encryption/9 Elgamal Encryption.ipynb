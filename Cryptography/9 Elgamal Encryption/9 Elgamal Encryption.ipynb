{
 "nbformat": 4,
 "nbformat_minor": 2,
 "metadata": {
  "language_info": {
   "name": "python",
   "codemirror_mode": {
    "name": "ipython",
    "version": 3
   },
   "version": "3.8.1-final"
  },
  "orig_nbformat": 2,
  "file_extension": ".py",
  "mimetype": "text/x-python",
  "name": "python",
  "npconvert_exporter": "python",
  "pygments_lexer": "ipython3",
  "version": 3,
  "kernelspec": {
   "name": "python37464bitbasecondaa80c30d65bae4f67b46d1bb9691cf15b",
   "display_name": "Python 3.7.4 64-bit ('base': conda)"
  }
 },
 "cells": [
  {
   "cell_type": "code",
   "execution_count": null,
   "metadata": {},
   "outputs": [],
   "source": [
    "import random"
   ]
  },
  {
   "cell_type": "code",
   "execution_count": null,
   "metadata": {},
   "outputs": [],
   "source": [
    "print(\"Side A\")\n",
    "q = int(input(\"Enter a prime number (q) : \"))\n",
    "α = int(input(\"Enter its primitive root (α) : \"))"
   ]
  },
  {
   "cell_type": "code",
   "execution_count": null,
   "metadata": {},
   "outputs": [],
   "source": [
    "XA = random.randint(2,q-2)\n",
    "print(f\"A's private Key (XA) = {XA}\")\n",
    "YA = α**XA % q\n",
    "print(f\"A's public Key (q, α, YA) = ({q}, {α}, {YA})\")"
   ]
  },
  {
   "cell_type": "code",
   "execution_count": null,
   "metadata": {},
   "outputs": [],
   "source": [
    "# Encryption\n",
    "print(\"Side B\")\n",
    "M = int(input(\"Enter the message to be sent (between 1 and q) : \"))\n",
    "# print(M)"
   ]
  },
  {
   "cell_type": "code",
   "execution_count": null,
   "metadata": {},
   "outputs": [],
   "source": [
    "k = random.randint(1,q-1)\n",
    "K = YA**k % q\n",
    "print(f\"One time key (K) = {K}\")"
   ]
  },
  {
   "cell_type": "code",
   "execution_count": null,
   "metadata": {},
   "outputs": [],
   "source": [
    "C1 = α**k % q\n",
    "C2 = K*M %q\n",
    "print(f\"Cipher Text (C1, C2) = ({C1},{C2})\")"
   ]
  },
  {
   "cell_type": "code",
   "execution_count": null,
   "metadata": {},
   "outputs": [],
   "source": [
    "# Inverse of K\n",
    "for i in range(q+1):\n",
    "    if K*i % q == 1:\n",
    "        K_iv = i\n",
    "        break"
   ]
  },
  {
   "cell_type": "code",
   "execution_count": null,
   "metadata": {},
   "outputs": [],
   "source": [
    "# Decryption\n",
    "print(\"Side A\")\n",
    "K = C1**XA % q\n",
    "print(f\"Decrypted one time key (K) = {K}\")\n",
    "M = C2*K_iv % q\n",
    "print(f\"Decrypted message (M) = {M}\")"
   ]
  }
 ]
}