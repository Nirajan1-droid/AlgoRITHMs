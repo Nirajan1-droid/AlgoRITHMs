{
 "cells": [
  {
   "cell_type": "code",
   "execution_count": null,
   "metadata": {},
   "outputs": [],
   "source": [
    "import hashlib\n",
    "\n",
    "message = \"Tirtha Raj Poudel\"\n",
    "\n",
    "# SHA-1\n",
    "sha1 = hashlib.sha1(message.encode())\n",
    "print(f\"SHA-1 hash message digest: \\n{sha1.hexdigest()}\")\n",
    "\n",
    "# SHA-224\n",
    "sha224 = hashlib.sha224(message.encode())\n",
    "print(f\"\\nSHA-224 hash message digest: \\n{sha224.hexdigest()}\")\n",
    "\n",
    "# SHA-256\n",
    "sha256 = hashlib.sha256(message.encode())\n",
    "print(f\"\\nSHA-256 hash message digest: \\n{sha256.hexdigest()}\")\n",
    "\n",
    "# SHA-384\n",
    "sha384 = hashlib.sha384(message.encode())\n",
    "print(f\"\\nSHA-384 hash message digest: \\n{sha384.hexdigest()}\")\n",
    "\n",
    "# SHA-512\n",
    "sha512 = hashlib.sha512(message.encode())\n",
    "print(f\"\\nSHA-512 hash message digest: \\n{sha512.hexdigest()}\")\n",
    "\n",
    "# MD-5\n",
    "md5 = hashlib.md5(message.encode())\n",
    "print(f\"\\nMD-5 hash message digest: \\n{md5.hexdigest()}\")\n"
   ]
  },
  {
   "cell_type": "code",
   "execution_count": null,
   "metadata": {},
   "outputs": [],
   "source": []
  }
 ],
 "metadata": {
  "kernelspec": {
   "display_name": "Python 3",
   "language": "python",
   "name": "python3"
  },
  "language_info": {
   "codemirror_mode": {
    "name": "ipython",
    "version": 3
   },
   "file_extension": ".py",
   "mimetype": "text/x-python",
   "name": "python",
   "nbconvert_exporter": "python",
   "pygments_lexer": "ipython3",
   "version": "3.7.4-final"
  }
 },
 "nbformat": 4,
 "nbformat_minor": 2
}