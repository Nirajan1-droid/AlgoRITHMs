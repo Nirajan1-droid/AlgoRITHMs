{
 "cells": [
  {
   "cell_type": "code",
   "execution_count": null,
   "metadata": {},
   "outputs": [],
   "source": [
    "import random"
   ]
  },
  {
   "cell_type": "code",
   "execution_count": null,
   "metadata": {},
   "outputs": [],
   "source": [
    "def is_prime(n):\n",
    "    count = 0\n",
    "    for i in range(1, int(n/2)+1):\n",
    "        if (n % i == 0):\n",
    "            count += 1\n",
    "    if (count == 1):\n",
    "        return True\n",
    "    else:\n",
    "        return False"
   ]
  },
  {
   "cell_type": "code",
   "execution_count": null,
   "metadata": {},
   "outputs": [],
   "source": [
    "while(True):\n",
    "    p = int(input(\"Enter a prime number : \"))\n",
    "    if (is_prime(p)):\n",
    "        break\n",
    "g = int(input(\"Enter the primitive root of prime number : \"))"
   ]
  },
  {
   "cell_type": "code",
   "execution_count": null,
   "metadata": {},
   "outputs": [],
   "source": [
    "Pr_A = random.randint(1,p)\n",
    "print(\"Private key of A : {}\".format(Pr_A))\n",
    "Pr_B = random.randint(1,p)\n",
    "print(\"Private key of B : {}\".format(Pr_B))"
   ]
  },
  {
   "cell_type": "code",
   "execution_count": null,
   "metadata": {},
   "outputs": [],
   "source": [
    "Pu_A = (g**Pr_A) % p\n",
    "print(\"Public key of A : {}\".format(Pu_A))\n",
    "Pu_B = (g**Pr_B) % p\n",
    "print(\"Public key of B : {}\".format(Pu_B))"
   ]
  },
  {
   "cell_type": "code",
   "execution_count": null,
   "metadata": {},
   "outputs": [],
   "source": [
    "Se_A = (Pu_B**Pr_A) % p\n",
    "Se_B = (Pu_A**Pr_B) % p\n",
    "\n",
    "if(Se_A==Se_B):\n",
    "    print(\"Diffie-Hellman Key Exchange Successful!\")\n",
    "    print(\"The shared secret is : {}\".format(Se_A))\n",
    "else:\n",
    "    print(\"Some error occured.\")"
   ]
  },
  {
   "cell_type": "code",
   "execution_count": null,
   "metadata": {},
   "outputs": [],
   "source": []
  }
 ],
 "metadata": {
  "kernelspec": {
   "display_name": "Python 3",
   "language": "python",
   "name": "python3"
  },
  "language_info": {
   "codemirror_mode": {
    "name": "ipython",
    "version": 3
   },
   "file_extension": ".py",
   "mimetype": "text/x-python",
   "name": "python",
   "nbconvert_exporter": "python",
   "pygments_lexer": "ipython3",
   "version": "3.7.4-final"
  }
 },
 "nbformat": 4,
 "nbformat_minor": 4
}