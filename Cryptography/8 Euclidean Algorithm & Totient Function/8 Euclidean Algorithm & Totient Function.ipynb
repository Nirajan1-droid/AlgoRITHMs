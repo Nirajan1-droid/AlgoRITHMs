{
 "nbformat": 4,
 "nbformat_minor": 2,
 "metadata": {
  "language_info": {
   "name": "python",
   "codemirror_mode": {
    "name": "ipython",
    "version": 3
   },
   "version": "3.8.1-final"
  },
  "orig_nbformat": 2,
  "file_extension": ".py",
  "mimetype": "text/x-python",
  "name": "python",
  "npconvert_exporter": "python",
  "pygments_lexer": "ipython3",
  "version": 3,
  "kernelspec": {
   "name": "python3",
   "display_name": "Python 3"
  }
 },
 "cells": [
  {
   "cell_type": "code",
   "execution_count": null,
   "metadata": {},
   "outputs": [],
   "source": [
    "a = int(input(\"Enter first number : \"))\n",
    "b = int(input(\"Enter second number : \"))"
   ]
  },
  {
   "cell_type": "code",
   "execution_count": null,
   "metadata": {},
   "outputs": [],
   "source": [
    "def gcd(a,b):\n",
    "    if a<b:\n",
    "        return gcd(b,a)\n",
    "    if b!=0:\n",
    "        return gcd(b,a%b)\n",
    "    else:\n",
    "        return a"
   ]
  },
  {
   "cell_type": "code",
   "execution_count": null,
   "metadata": {},
   "outputs": [],
   "source": [
    "print(f\"GCD of {a} and {b} : {gcd(a,b)}\")"
   ]
  },
  {
   "cell_type": "code",
   "execution_count": null,
   "metadata": {},
   "outputs": [],
   "source": [
    "def Φ(n):\n",
    "    count=0\n",
    "    print(f\"The numbers smaller than {n} and relatively prime to {n} are : \")\n",
    "    for i in range(1,n):\n",
    "        if(gcd(i,n)==1):\n",
    "            count=count+1\n",
    "            print(i)\n",
    "    print(f\"∴ Φ({n}) = {count}\")"
   ]
  },
  {
   "cell_type": "code",
   "execution_count": null,
   "metadata": {},
   "outputs": [],
   "source": [
    "Φ(21)"
   ]
  }
 ]
}