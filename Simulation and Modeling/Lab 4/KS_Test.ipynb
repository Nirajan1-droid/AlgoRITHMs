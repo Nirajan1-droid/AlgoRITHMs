{
 "nbformat": 4,
 "nbformat_minor": 2,
 "metadata": {
  "language_info": {
   "name": "python",
   "codemirror_mode": {
    "name": "ipython",
    "version": 3
   },
   "version": "3.7.4-final"
  },
  "orig_nbformat": 2,
  "file_extension": ".py",
  "mimetype": "text/x-python",
  "name": "python",
  "npconvert_exporter": "python",
  "pygments_lexer": "ipython3",
  "version": 3,
  "kernelspec": {
   "name": "python3",
   "display_name": "Python 3"
  }
 },
 "cells": [
  {
   "cell_type": "code",
   "execution_count": null,
   "metadata": {},
   "outputs": [],
   "source": [
    "data=[0.44,0.81,0.14,0.05,0.93]\n",
    "N = 5\n",
    "α = 0.05\n",
    "D_critical = 0.565\n",
    "\n",
    "print(\"Data = {}\".format(data))\n",
    "print(\"N = {}\".format(N))\n",
    "print(\"Level of significanc (α) = {}\".format(α))\n",
    "print(\"Critical value of D for α = {} and N = {} is {} .\".format(α,N,D_critical))"
   ]
  },
  {
   "cell_type": "code",
   "execution_count": null,
   "metadata": {},
   "outputs": [],
   "source": [
    "Ri = data.copy()\n",
    "Ri.sort()\n",
    "print(\"After sorting :\")\n",
    "print(\"Ri = {}\".format(Ri))"
   ]
  },
  {
   "cell_type": "code",
   "execution_count": null,
   "metadata": {},
   "outputs": [],
   "source": [
    "i = list(range(1, len(data)+1))\n",
    "print(\"i = {}\".format(i))"
   ]
  },
  {
   "cell_type": "code",
   "execution_count": null,
   "metadata": {},
   "outputs": [],
   "source": [
    "i_N = []\n",
    "for index in i:\n",
    "    i_N.append(index/N)\n",
    "print(\"i/N = {}\".format(i_N))"
   ]
  },
  {
   "cell_type": "code",
   "execution_count": null,
   "metadata": {},
   "outputs": [],
   "source": [
    "i_N_Ri = []\n",
    "for index in i:\n",
    "    i_N_Ri.append(round(i_N[index-1] - Ri[index-1],2))\n",
    "print(\"i/N - Ri = {}\".format(i_N_Ri))"
   ]
  },
  {
   "cell_type": "code",
   "execution_count": null,
   "metadata": {},
   "outputs": [],
   "source": [
    "Ri_i_1_N = []\n",
    "for index in i:\n",
    "    Ri_i_1_N.append(round(Ri[index-1] - (index-1)/N,2))\n",
    "print(\"Ri - (i-1)/N = {}\".format(Ri_i_1_N))"
   ]
  },
  {
   "cell_type": "code",
   "execution_count": null,
   "metadata": {},
   "outputs": [],
   "source": [
    "D_p = max(i_N_Ri)\n",
    "print(\"D+ = {}\".format(D_p))\n",
    "\n",
    "D_n = max(Ri_i_1_N)\n",
    "print(\"D- = {}\".format(D_n))\n",
    "\n",
    "D_calc = max(D_p,D_n)\n",
    "print(\"D = {}\".format(D_calc))"
   ]
  },
  {
   "cell_type": "code",
   "execution_count": null,
   "metadata": {},
   "outputs": [],
   "source": [
    "if (D_calc < D_critical):\n",
    "    print(\"Calculated value of D < Tabulated value of D.\")\n",
    "    print(\"Null Hypothesis is accepted.\")\n",
    "else:\n",
    "    print(\"Calculated value of D > Tabulated value of D.\")\n",
    "    print(\"Null Hypothesis is rejected.\")\n"
   ]
  },
  {
   "cell_type": "code",
   "execution_count": null,
   "metadata": {},
   "outputs": [],
   "source": []
  }
 ]
}