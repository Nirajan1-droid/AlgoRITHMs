{
 "nbformat": 4,
 "nbformat_minor": 2,
 "metadata": {
  "language_info": {
   "name": "python",
   "codemirror_mode": {
    "name": "ipython",
    "version": 3
   },
   "version": "3.7.4-final"
  },
  "orig_nbformat": 2,
  "file_extension": ".py",
  "mimetype": "text/x-python",
  "name": "python",
  "npconvert_exporter": "python",
  "pygments_lexer": "ipython3",
  "version": 3,
  "kernelspec": {
   "name": "python3",
   "display_name": "Python 3"
  }
 },
 "cells": [
  {
   "cell_type": "code",
   "execution_count": null,
   "metadata": {},
   "outputs": [],
   "source": [
    "seed = int(input(\"Enter a 4 digit number : \"))\n",
    "number = seed\n",
    "print(f\"The seed is {seed}.\")\n"
   ]
  },
  {
   "cell_type": "code",
   "execution_count": null,
   "metadata": {},
   "outputs": [],
   "source": [
    "print(\"The random numbers are : \")\n",
    "already_generated = set()\n",
    "\n",
    "while(True):\n",
    "\n",
    "    already_generated.add(number)\n",
    "\n",
    "    Xi = str(int(number)**2)\n",
    "    # print(f\"Square : {Xi}\")\n",
    "\n",
    "    # Builtin function to fill zeros / prepand 0s.\n",
    "    # Xi.zfill(8)\n",
    "    \n",
    "    zeros_to_be_added = 8 - len(Xi)\n",
    "    for i in range(zeros_to_be_added):\n",
    "        Xi = '0' + Xi\n",
    "    # print(f\"After padding : {Xi}\")\n",
    "\n",
    "    number = str(Xi)[2:6]\n",
    "\n",
    "    if(number in already_generated):\n",
    "        break\n",
    "\n",
    "    if (int(number)==0):\n",
    "        break\n",
    "\n",
    "    print(int(number))\n",
    "\n"
   ]
  }
 ]
}