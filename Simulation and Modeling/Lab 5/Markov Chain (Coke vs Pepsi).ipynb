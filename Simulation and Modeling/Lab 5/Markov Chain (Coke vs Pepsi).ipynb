{
 "nbformat": 4,
 "nbformat_minor": 2,
 "metadata": {
  "language_info": {
   "name": "python",
   "codemirror_mode": {
    "name": "ipython",
    "version": 3
   },
   "version": "3.8.1-final"
  },
  "orig_nbformat": 2,
  "file_extension": ".py",
  "mimetype": "text/x-python",
  "name": "python",
  "npconvert_exporter": "python",
  "pygments_lexer": "ipython3",
  "version": 3,
  "kernelspec": {
   "name": "python37464bitbasecondaa80c30d65bae4f67b46d1bb9691cf15b",
   "display_name": "Python 3.7.4 64-bit ('base': conda)"
  }
 },
 "cells": [
  {
   "cell_type": "code",
   "execution_count": null,
   "metadata": {},
   "outputs": [],
   "source": [
    "# Python program to implement Markov Chain (Coke vs Pepsi)\n",
    "\n",
    "n = int(input(\"Enter no of purchase after which the probability needs to be calculated: \"))"
   ]
  },
  {
   "cell_type": "code",
   "execution_count": null,
   "metadata": {},
   "outputs": [],
   "source": [
    "#    Coke   Pepsi\n",
    "P = [[0.9,  0.1], #Coke\n",
    "     [0.2,  0.8]] #Pepsi\n",
    "\n",
    "#    Coke Pepsi\n",
    "Pi = [ 0,    1] #Current Purchase\n",
    "\n",
    "for i in range(n):\n",
    "    Pi = [Pi[0]*P[0][0] + Pi[1]*P[1][0],\n",
    "          Pi[0]*P[0][1] + Pi[1]*P[1][1]]"
   ]
  },
  {
   "cell_type": "code",
   "execution_count": null,
   "metadata": {},
   "outputs": [],
   "source": [
    "print(f\"Probability of purchasing coke after {n} purchases : {round(Pi[0],5)}\")\n",
    "print(f\"Probability of purchasing pepsi after {n} purchases : {round(Pi[1],5)}\")\n"
   ]
  }
 ]
}