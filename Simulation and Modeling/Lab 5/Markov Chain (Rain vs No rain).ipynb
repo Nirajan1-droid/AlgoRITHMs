{
 "nbformat": 4,
 "nbformat_minor": 2,
 "metadata": {
  "language_info": {
   "name": "python",
   "codemirror_mode": {
    "name": "ipython",
    "version": 3
   },
   "version": "3.8.1-final"
  },
  "orig_nbformat": 2,
  "file_extension": ".py",
  "mimetype": "text/x-python",
  "name": "python",
  "npconvert_exporter": "python",
  "pygments_lexer": "ipython3",
  "version": 3,
  "kernelspec": {
   "name": "python37464bitbasecondaa80c30d65bae4f67b46d1bb9691cf15b",
   "display_name": "Python 3.7.4 64-bit ('base': conda)"
  }
 },
 "cells": [
  {
   "cell_type": "code",
   "execution_count": null,
   "metadata": {},
   "outputs": [],
   "source": [
    "# Python program to implement Markov Chain (Rain vs No Rain)\n",
    "\n",
    "n = int(input(\"Enter the day for which the weather need to be predicted (1,2,3,..) :\"))"
   ]
  },
  {
   "cell_type": "code",
   "execution_count": null,
   "metadata": {},
   "outputs": [],
   "source": [
    "#    Rain   No rain\n",
    "P = [[0.8,  0.2], #Rain\n",
    "     [0.4,  0.6]] #No rain\n",
    "\n",
    "#    Rain  No rain\n",
    "Pi = [ 1,     0] #Current Purchase\n",
    "\n",
    "for i in range(n):\n",
    "    Pi = [Pi[0]*P[0][0] + Pi[1]*P[1][0],\n",
    "          Pi[0]*P[0][1] + Pi[1]*P[1][1]]"
   ]
  },
  {
   "cell_type": "code",
   "execution_count": null,
   "metadata": {},
   "outputs": [],
   "source": [
    "print(f\"Probability of rain at day {n} : {round(Pi[0],5)}\")\n",
    "print(f\"Probability of no rain at day {n} : {round(Pi[1],5)}\")\n"
   ]
  }
 ]
}