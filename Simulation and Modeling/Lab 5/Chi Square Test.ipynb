{
 "nbformat": 4,
 "nbformat_minor": 2,
 "metadata": {
  "language_info": {
   "name": "python",
   "codemirror_mode": {
    "name": "ipython",
    "version": 3
   },
   "version": "3.8.1-final"
  },
  "orig_nbformat": 2,
  "file_extension": ".py",
  "mimetype": "text/x-python",
  "name": "python",
  "npconvert_exporter": "python",
  "pygments_lexer": "ipython3",
  "version": 3,
  "kernelspec": {
   "name": "python37464bitbasecondaa80c30d65bae4f67b46d1bb9691cf15b",
   "display_name": "Python 3.7.4 64-bit ('base': conda)"
  }
 },
 "cells": [
  {
   "cell_type": "code",
   "execution_count": null,
   "metadata": {},
   "outputs": [],
   "source": [
    "data = [0.34, 0.83, 0.96, 0.47, 0.79, 0.99, 0.37, 0.72, 0.06, 0.18,\n",
    "        0.90, 0.76, 0.99, 0.30, 0.71, 0.17, 0.51, 0.43, 0.39, 0.26,\n",
    "        0.25, 0.79, 0.77, 0.17, 0.23, 0.99, 0.54, 0.56, 0.84, 0.97,\n",
    "        0.89, 0.64, 0.67, 0.82, 0.19, 0.46, 0.01, 0.97, 0.24, 0.88,\n",
    "        0.87, 0.70, 0.56, 0.56, 0.82, 0.05, 0.81, 0.30, 0.40, 0.64,\n",
    "        0.44, 0.81, 0.41, 0.05, 0.93, 0.66, 0.28, 0.94, 0.64, 0.47,\n",
    "        0.12, 0.94, 0.52, 0.45, 0.65, 0.10, 0.69, 0.96, 0.40, 0.60,\n",
    "        0.21, 0.74, 0.73, 0.31, 0.37, 0.42, 0.34, 0.58, 0.19, 0.11,\n",
    "        0.46, 0.22, 0.99, 0.78, 0.39, 0.18, 0.75, 0.73, 0.79, 0.29,\n",
    "        0.67, 0.74, 0.02, 0.05, 0.42, 0.49, 0.49, 0.05, 0.62, 0.78]\n",
    "N = len(data) # total number of observations\n",
    "n = 10 # total number of intervals\n",
    "degree_of_freedom = n - 1\n",
    "chi_square_tabulated = 16.9"
   ]
  },
  {
   "cell_type": "code",
   "execution_count": null,
   "metadata": {},
   "outputs": [],
   "source": [
    "class_interval = [i/10 for i in range(0,n+1,1)]\n",
    "# print(class_interval)\n",
    "\n",
    "items_in_ci = list()\n",
    "for i in range(n):\n",
    "    items_in_ci.append([])"
   ]
  },
  {
   "cell_type": "code",
   "execution_count": null,
   "metadata": {},
   "outputs": [],
   "source": [
    "i=0\n",
    "j=1\n",
    "for item in data:\n",
    "    while True:\n",
    "        if (class_interval[i] <= item) and (item < class_interval[j]):\n",
    "            items_in_ci[i].append(item)\n",
    "            i=0\n",
    "            j=1\n",
    "            break\n",
    "        else:\n",
    "            i+=1\n",
    "            j+=1\n",
    "# print(items_in_ci)"
   ]
  },
  {
   "cell_type": "code",
   "execution_count": null,
   "metadata": {},
   "outputs": [],
   "source": [
    "Observed = list()\n",
    "for i in range(n):\n",
    "    Observed.append(len(items_in_ci[i]))\n",
    "# print(Observed)\n",
    "\n",
    "Expected = list()\n",
    "for i in range (n):\n",
    "    Expected.append(10)\n",
    "#   print(Expected)"
   ]
  },
  {
   "cell_type": "code",
   "execution_count": null,
   "metadata": {},
   "outputs": [],
   "source": [
    "E_O_diff=list()\n",
    "E_O_diff_squared=list()\n",
    "E_O_E=list()\n",
    "\n",
    "for i in range(n):\n",
    "    E_O_diff.append(Expected[i]-Observed[i])\n",
    "    E_O_diff_squared.append(E_O_diff[i]**2)\n",
    "    E_O_E.append(E_O_diff_squared[i]/Expected[i]) \n",
    "# print(E_O_diff)\n",
    "# print(E_O_diff_squared)\n",
    "# print(E_O_E)"
   ]
  },
  {
   "cell_type": "code",
   "execution_count": null,
   "metadata": {},
   "outputs": [],
   "source": [
    "chi_square=0\n",
    "for i in range (n):\n",
    "    chi_square+=E_O_E[i]\n",
    "# print(chi_square)"
   ]
  },
  {
   "cell_type": "code",
   "execution_count": null,
   "metadata": {},
   "outputs": [],
   "source": [
    "# Print the table\n",
    "print(\"Class Interval(i)\\tOi\\tEi\\tEi-Oi\\t(Ei-Oi)^2\\t(Ei-Oi)^2/Ei\\n\")\n",
    "for i in range(n):\n",
    "    print(f\"[{class_interval[i]} - {class_interval[i+1]})\\t\\t{Observed[i]}\\t{Expected[i]}\\t{E_O_diff[i]}\\t{E_O_diff_squared[i]}\\t\\t {E_O_E[i]}\")\n",
    "print(f\"\\nTotal\\t\\t\\tN={N}\\t\\t\\t\\t\\t X^2={chi_square}\")"
   ]
  },
  {
   "cell_type": "code",
   "execution_count": null,
   "metadata": {},
   "outputs": [],
   "source": [
    "print(f\"Calculated chi square = {chi_square}\")\n",
    "print(f\"Tabulated chi square = {chi_square_tabulated}\")\n",
    "\n",
    "if chi_square < chi_square_tabulated:\n",
    "    print(\"The calculated value of chi square is less than tabluated value.\")\n",
    "    print(\"The null hypothesis of uniform distribution is accepted.\")\n",
    "else:\n",
    "    print(\"The calculated value of chi square is more than tabluated value.\")\n",
    "    print(\"The null hypothesis of uniform distribution is rejected.\")\n"
   ]
  }
 ]
}